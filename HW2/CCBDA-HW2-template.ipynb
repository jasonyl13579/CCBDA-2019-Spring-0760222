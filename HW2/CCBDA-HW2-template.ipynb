{
 "cells": [
  {
   "cell_type": "code",
   "execution_count": 8,
   "metadata": {},
   "outputs": [
    {
     "name": "stdout",
     "output_type": "stream",
     "text": [
      "['1', '2', '3', '6', '7', '5']\n",
      "['1', '4', '3', '2', '1', '2', '5', '6']\n",
      "['1', '2', '6', '5']\n",
      "['2', '6', '7']\n"
     ]
    }
   ],
   "source": [
    "import csv\n",
    "'''\n",
    "input file name will be: dataset_1.csv, dataset_2.csv\n",
    "\n",
    "Here are an example input file parser:\n",
    "\n",
    "db = []\n",
    "with open('dataset_1.csv', newline='') as csvfile:\n",
    "    rows = csv.reader(csvfile)\n",
    "\n",
    "    for row in rows:\n",
    "        db.append(row)\n",
    "\n",
    "'''\n",
    "def data_mining(support, input_file, output_file):\n",
    "    db = []\n",
    "    with open('publicdataset_1.csv', newline='') as csvfile:\n",
    "        rows = csv.reader(csvfile)\n",
    "        for row in rows:\n",
    "            db.append(row)\n",
    "    #print (db)\n",
    "data_mining(2, 'publicdataset_1.csv', 'publicoutput_1.txt')"
   ]
  },
  {
   "cell_type": "code",
   "execution_count": null,
   "metadata": {},
   "outputs": [],
   "source": [
    "# dataset_1\n",
    "# input file: dataset_1csv\n",
    "# output_file: output_1txt\n",
    "support = 2"
   ]
  },
  {
   "cell_type": "code",
   "execution_count": null,
   "metadata": {},
   "outputs": [],
   "source": [
    "# dataset_2\n",
    "# input file: dataset_2.csv\n",
    "# output_file: output_2.txt\n",
    "support = 2"
   ]
  },
  {
   "cell_type": "code",
   "execution_count": null,
   "metadata": {},
   "outputs": [],
   "source": [
    "# dataset_3\n",
    "# input file: dataset_3.csv\n",
    "# output_file: output_3.txt\n",
    "support = 2"
   ]
  },
  {
   "cell_type": "code",
   "execution_count": null,
   "metadata": {},
   "outputs": [],
   "source": [
    "# dataset_4\n",
    "# input file: dataset_4.csv\n",
    "# output_file: output_4.txt\n",
    "support = 3"
   ]
  },
  {
   "cell_type": "code",
   "execution_count": null,
   "metadata": {},
   "outputs": [],
   "source": [
    "# dataset_5\n",
    "# input file: dataset_5.csv\n",
    "# output_file: output_5.txt\n",
    "support = 4"
   ]
  },
  {
   "cell_type": "code",
   "execution_count": null,
   "metadata": {},
   "outputs": [],
   "source": [
    "# dataset_6\n",
    "# input file: dataset_6.csv\n",
    "# output_file: output_6.txt\n",
    "support = 4"
   ]
  }
 ],
 "metadata": {
  "kernelspec": {
   "display_name": "Python 3",
   "language": "python",
   "name": "python3"
  },
  "language_info": {
   "codemirror_mode": {
    "name": "ipython",
    "version": 3
   },
   "file_extension": ".py",
   "mimetype": "text/x-python",
   "name": "python",
   "nbconvert_exporter": "python",
   "pygments_lexer": "ipython3",
   "version": "3.6.6"
  }
 },
 "nbformat": 4,
 "nbformat_minor": 2
}

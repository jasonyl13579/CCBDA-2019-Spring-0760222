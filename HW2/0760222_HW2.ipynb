{
 "cells": [
  {
   "cell_type": "code",
   "execution_count": 259,
   "metadata": {},
   "outputs": [
    {
     "name": "stdout",
     "output_type": "stream",
     "text": [
      "It cost 0.003990 sec\n",
      "0.0039899349212646484\n",
      "It cost 0.004989 sec\n",
      "0.004988908767700195\n"
     ]
    }
   ],
   "source": [
    "import csv\n",
    "import time \n",
    "from collections import defaultdict\n",
    "'''\n",
    "input file name will be: dataset_1.csv, dataset_2.csv\n",
    "\n",
    "Here are an example input file parser:\n",
    "\n",
    "db = []\n",
    "with open('dataset_1.csv', newline='') as csvfile:\n",
    "    rows = csv.reader(csvfile)\n",
    "\n",
    "    for row in rows:\n",
    "        db.append(row)\n",
    "\n",
    "'''\n",
    "def init_L1_seq(db, support):\n",
    "    L1 = {}\n",
    "    for seq in db:\n",
    "        temp = list(set(seq))\n",
    "        for item in temp:\n",
    "            new = tuple(item)\n",
    "            if new in L1:\n",
    "                L1[new] = L1[new] + 1\n",
    "            else:\n",
    "                L1[new] = 1\n",
    "    #print(L1)\n",
    "    for key in list(L1.keys()):\n",
    "        if L1[key] < support:\n",
    "            del L1[key]\n",
    "    return L1\n",
    "\n",
    "def aprioriALL_generate(L1, Lk_1):\n",
    "    new_list = []\n",
    "    for i in Lk_1:    \n",
    "        for j in L1:\n",
    "            temp = list(i)\n",
    "            temp.append(j[0])\n",
    "            new_list.append(temp)\n",
    "    return (new_list)\n",
    "        \n",
    "def pruneSupport(db, C, support):\n",
    "    new_L = {}\n",
    "    for test_seq in C:\n",
    "        item_support = 0\n",
    "        for seq in db:\n",
    "            valid = 0\n",
    "            iteration = 0 \n",
    "            for test_item in test_seq:\n",
    "                for i in range(iteration, len(seq)):\n",
    "                    if test_item == seq[i]:\n",
    "                        valid = valid + 1\n",
    "                        iteration = i+1\n",
    "                        break\n",
    "            if valid >= len(test_seq):\n",
    "                item_support = item_support + 1\n",
    "        if item_support >= support:\n",
    "            new = tuple(test_seq)\n",
    "            new_L[new] = item_support\n",
    "    #print (new_L)\n",
    "    return new_L\n",
    "def save_file(L, output_file):\n",
    "    with open(output_file, 'w+') as f:\n",
    "        ALL_L = {}\n",
    "        for Lk in L:\n",
    "            ALL_L.update(L[Lk])\n",
    "        keys = sorted(ALL_L)\n",
    "        for key in keys:\n",
    "            out_str = str(ALL_L[key])\n",
    "            out_str = str(list(key)).replace(\"'\", \"\").replace(\" \", \"\") + ',' + out_str + '\\n'\n",
    "            f.write(out_str)\n",
    "def data_mining(support, input_file, output_file):\n",
    "    tStart = time.time() \n",
    "    db = []\n",
    "    with open(input_file, newline='') as csvfile:\n",
    "        rows = csv.reader(csvfile)\n",
    "        for row in rows:\n",
    "            db.append(row)\n",
    "    #print (db)\n",
    "    L = defaultdict(list)\n",
    "    L[1] = init_L1_seq(db, support)\n",
    "    C = aprioriALL_generate(sorted(L[1]), sorted(L[1])) \n",
    "    k = 2\n",
    "    while C :\n",
    "        L[k] = pruneSupport(db, C, support)\n",
    "        C = aprioriALL_generate(sorted(L[1]),L[k])\n",
    "        k = k + 1\n",
    "    L.pop(k-1)\n",
    "    save_file(L, output_file)\n",
    "    tEnd = time.time() \n",
    "    print (\"It cost %f sec\"%(tEnd - tStart)) \n",
    "    print (tEnd - tStart) \n",
    "data_mining(2, 'publicdataset_2.csv', 'publicoutput_2.txt')\n",
    "data_mining(2, 'publicdataset_1.csv', 'publicoutput_1.txt')"
   ]
  },
  {
   "cell_type": "code",
   "execution_count": 247,
   "metadata": {},
   "outputs": [
    {
     "ename": "FileNotFoundError",
     "evalue": "[Errno 2] No such file or directory: 'dataset_1.csv'",
     "output_type": "error",
     "traceback": [
      "\u001b[1;31m---------------------------------------------------------------------------\u001b[0m",
      "\u001b[1;31mFileNotFoundError\u001b[0m                         Traceback (most recent call last)",
      "\u001b[1;32m<ipython-input-247-40149764196b>\u001b[0m in \u001b[0;36m<module>\u001b[1;34m\u001b[0m\n\u001b[0;32m      3\u001b[0m \u001b[1;31m# output_file: output_1txt\u001b[0m\u001b[1;33m\u001b[0m\u001b[1;33m\u001b[0m\u001b[0m\n\u001b[0;32m      4\u001b[0m \u001b[0msupport\u001b[0m \u001b[1;33m=\u001b[0m \u001b[1;36m2\u001b[0m\u001b[1;33m\u001b[0m\u001b[0m\n\u001b[1;32m----> 5\u001b[1;33m \u001b[0mdata_mining\u001b[0m\u001b[1;33m(\u001b[0m\u001b[0msupport\u001b[0m\u001b[1;33m,\u001b[0m \u001b[1;34m'dataset_1.csv'\u001b[0m\u001b[1;33m,\u001b[0m \u001b[1;34m'output_1.txt'\u001b[0m\u001b[1;33m)\u001b[0m\u001b[1;33m\u001b[0m\u001b[0m\n\u001b[0m",
      "\u001b[1;32m<ipython-input-246-1897a4a218c5>\u001b[0m in \u001b[0;36mdata_mining\u001b[1;34m(support, input_file, output_file)\u001b[0m\n\u001b[0;32m     71\u001b[0m \u001b[1;32mdef\u001b[0m \u001b[0mdata_mining\u001b[0m\u001b[1;33m(\u001b[0m\u001b[0msupport\u001b[0m\u001b[1;33m,\u001b[0m \u001b[0minput_file\u001b[0m\u001b[1;33m,\u001b[0m \u001b[0moutput_file\u001b[0m\u001b[1;33m)\u001b[0m\u001b[1;33m:\u001b[0m\u001b[1;33m\u001b[0m\u001b[0m\n\u001b[0;32m     72\u001b[0m     \u001b[0mdb\u001b[0m \u001b[1;33m=\u001b[0m \u001b[1;33m[\u001b[0m\u001b[1;33m]\u001b[0m\u001b[1;33m\u001b[0m\u001b[0m\n\u001b[1;32m---> 73\u001b[1;33m     \u001b[1;32mwith\u001b[0m \u001b[0mopen\u001b[0m\u001b[1;33m(\u001b[0m\u001b[0minput_file\u001b[0m\u001b[1;33m,\u001b[0m \u001b[0mnewline\u001b[0m\u001b[1;33m=\u001b[0m\u001b[1;34m''\u001b[0m\u001b[1;33m)\u001b[0m \u001b[1;32mas\u001b[0m \u001b[0mcsvfile\u001b[0m\u001b[1;33m:\u001b[0m\u001b[1;33m\u001b[0m\u001b[0m\n\u001b[0m\u001b[0;32m     74\u001b[0m         \u001b[0mrows\u001b[0m \u001b[1;33m=\u001b[0m \u001b[0mcsv\u001b[0m\u001b[1;33m.\u001b[0m\u001b[0mreader\u001b[0m\u001b[1;33m(\u001b[0m\u001b[0mcsvfile\u001b[0m\u001b[1;33m)\u001b[0m\u001b[1;33m\u001b[0m\u001b[0m\n\u001b[0;32m     75\u001b[0m         \u001b[1;32mfor\u001b[0m \u001b[0mrow\u001b[0m \u001b[1;32min\u001b[0m \u001b[0mrows\u001b[0m\u001b[1;33m:\u001b[0m\u001b[1;33m\u001b[0m\u001b[0m\n",
      "\u001b[1;31mFileNotFoundError\u001b[0m: [Errno 2] No such file or directory: 'dataset_1.csv'"
     ]
    }
   ],
   "source": [
    "# dataset_1\n",
    "# input file: dataset_1csv\n",
    "# output_file: output_1txt\n",
    "support = 2\n",
    "data_mining(support, 'dataset_1.csv', 'output_1.txt')"
   ]
  },
  {
   "cell_type": "code",
   "execution_count": 90,
   "metadata": {},
   "outputs": [],
   "source": [
    "# dataset_2\n",
    "# input file: dataset_2.csv\n",
    "# output_file: output_2.txt\n",
    "support = 2\n",
    "data_mining(support, 'dataset_2.csv', 'output_2.txt')"
   ]
  },
  {
   "cell_type": "code",
   "execution_count": 255,
   "metadata": {},
   "outputs": [],
   "source": [
    "# dataset_3\n",
    "# input file: dataset_3.csv\n",
    "# output_file: output_3.txt\n",
    "support = 2\n",
    "data_mining(support, 'dataset_3.csv', 'output_3.txt')"
   ]
  },
  {
   "cell_type": "code",
   "execution_count": null,
   "metadata": {},
   "outputs": [],
   "source": [
    "# dataset_4\n",
    "# input file: dataset_4.csv\n",
    "# output_file: output_4.txt\n",
    "support = 3\n",
    "data_mining(support, 'dataset_4.csv', 'output_4.txt')"
   ]
  },
  {
   "cell_type": "code",
   "execution_count": null,
   "metadata": {},
   "outputs": [],
   "source": [
    "# dataset_5\n",
    "# input file: dataset_5.csv\n",
    "# output_file: output_5.txt\n",
    "support = 4\n",
    "data_mining(support, 'dataset_5.csv', 'output_5.txt')"
   ]
  },
  {
   "cell_type": "code",
   "execution_count": 256,
   "metadata": {},
   "outputs": [
    {
     "ename": "FileNotFoundError",
     "evalue": "[Errno 2] No such file or directory: 'dataset_6.csv'",
     "output_type": "error",
     "traceback": [
      "\u001b[1;31m---------------------------------------------------------------------------\u001b[0m",
      "\u001b[1;31mFileNotFoundError\u001b[0m                         Traceback (most recent call last)",
      "\u001b[1;32m<ipython-input-256-ab6403ec75ff>\u001b[0m in \u001b[0;36m<module>\u001b[1;34m\u001b[0m\n\u001b[0;32m      3\u001b[0m \u001b[1;31m# output_file: output_6.txt\u001b[0m\u001b[1;33m\u001b[0m\u001b[1;33m\u001b[0m\u001b[0m\n\u001b[0;32m      4\u001b[0m \u001b[0msupport\u001b[0m \u001b[1;33m=\u001b[0m \u001b[1;36m4\u001b[0m\u001b[1;33m\u001b[0m\u001b[0m\n\u001b[1;32m----> 5\u001b[1;33m \u001b[0mdata_mining\u001b[0m\u001b[1;33m(\u001b[0m\u001b[0msupport\u001b[0m\u001b[1;33m,\u001b[0m \u001b[1;34m'dataset_6.csv'\u001b[0m\u001b[1;33m,\u001b[0m \u001b[1;34m'output_6.txt'\u001b[0m\u001b[1;33m)\u001b[0m\u001b[1;33m\u001b[0m\u001b[0m\n\u001b[0m",
      "\u001b[1;32m<ipython-input-254-5dd9ea8ac1f4>\u001b[0m in \u001b[0;36mdata_mining\u001b[1;34m(support, input_file, output_file)\u001b[0m\n\u001b[0;32m     73\u001b[0m     \u001b[0mtStart\u001b[0m \u001b[1;33m=\u001b[0m \u001b[0mtime\u001b[0m\u001b[1;33m.\u001b[0m\u001b[0mtime\u001b[0m\u001b[1;33m(\u001b[0m\u001b[1;33m)\u001b[0m\u001b[1;33m\u001b[0m\u001b[0m\n\u001b[0;32m     74\u001b[0m     \u001b[0mdb\u001b[0m \u001b[1;33m=\u001b[0m \u001b[1;33m[\u001b[0m\u001b[1;33m]\u001b[0m\u001b[1;33m\u001b[0m\u001b[0m\n\u001b[1;32m---> 75\u001b[1;33m     \u001b[1;32mwith\u001b[0m \u001b[0mopen\u001b[0m\u001b[1;33m(\u001b[0m\u001b[0minput_file\u001b[0m\u001b[1;33m,\u001b[0m \u001b[0mnewline\u001b[0m\u001b[1;33m=\u001b[0m\u001b[1;34m''\u001b[0m\u001b[1;33m)\u001b[0m \u001b[1;32mas\u001b[0m \u001b[0mcsvfile\u001b[0m\u001b[1;33m:\u001b[0m\u001b[1;33m\u001b[0m\u001b[0m\n\u001b[0m\u001b[0;32m     76\u001b[0m         \u001b[0mrows\u001b[0m \u001b[1;33m=\u001b[0m \u001b[0mcsv\u001b[0m\u001b[1;33m.\u001b[0m\u001b[0mreader\u001b[0m\u001b[1;33m(\u001b[0m\u001b[0mcsvfile\u001b[0m\u001b[1;33m)\u001b[0m\u001b[1;33m\u001b[0m\u001b[0m\n\u001b[0;32m     77\u001b[0m         \u001b[1;32mfor\u001b[0m \u001b[0mrow\u001b[0m \u001b[1;32min\u001b[0m \u001b[0mrows\u001b[0m\u001b[1;33m:\u001b[0m\u001b[1;33m\u001b[0m\u001b[0m\n",
      "\u001b[1;31mFileNotFoundError\u001b[0m: [Errno 2] No such file or directory: 'dataset_6.csv'"
     ]
    }
   ],
   "source": [
    "# dataset_6\n",
    "# input file: dataset_6.csv\n",
    "# output_file: output_6.txt\n",
    "support = 4\n",
    "data_mining(support, 'dataset_6.csv', 'output_6.txt')"
   ]
  },
  {
   "cell_type": "code",
   "execution_count": null,
   "metadata": {},
   "outputs": [],
   "source": []
  }
 ],
 "metadata": {
  "kernelspec": {
   "display_name": "Python 3",
   "language": "python",
   "name": "python3"
  },
  "language_info": {
   "codemirror_mode": {
    "name": "ipython",
    "version": 3
   },
   "file_extension": ".py",
   "mimetype": "text/x-python",
   "name": "python",
   "nbconvert_exporter": "python",
   "pygments_lexer": "ipython3",
   "version": "3.6.6"
  }
 },
 "nbformat": 4,
 "nbformat_minor": 2
}

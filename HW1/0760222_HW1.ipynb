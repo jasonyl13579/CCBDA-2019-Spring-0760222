{
 "cells": [
  {
   "cell_type": "code",
   "execution_count": 1,
   "metadata": {
    "scrolled": true
   },
   "outputs": [],
   "source": [
    "import pandas as pd\n",
    "path1 = \"https://github.com/thechaudharysab/Chipotle-data_analysis-example/blob/master/chipotle.tsv\"\n",
    "r = pd.read_html(path1) \n",
    "array = r[0]"
   ]
  },
  {
   "cell_type": "code",
   "execution_count": 2,
   "metadata": {},
   "outputs": [
    {
     "name": "stdout",
     "output_type": "stream",
     "text": [
      "Chicken Bowl\n"
     ]
    }
   ],
   "source": [
    "print(array['item_name'].value_counts().idxmax())\n",
    "#array['item_name'].value_counts().max()"
   ]
  },
  {
   "cell_type": "code",
   "execution_count": 3,
   "metadata": {},
   "outputs": [
    {
     "name": "stdout",
     "output_type": "stream",
     "text": [
      "[Diet Coke]\n"
     ]
    }
   ],
   "source": [
    "print(array['choice_description'].value_counts().idxmax())\n",
    "#array['choice_description'].value_counts().max()\n",
    "#print(array['choice_description'].value_counts())"
   ]
  },
  {
   "cell_type": "code",
   "execution_count": null,
   "metadata": {},
   "outputs": [],
   "source": []
  },
  {
   "cell_type": "code",
   "execution_count": 4,
   "metadata": {},
   "outputs": [
    {
     "data": {
      "text/plain": [
       "39237.02"
      ]
     },
     "execution_count": 4,
     "metadata": {},
     "output_type": "execute_result"
    }
   ],
   "source": [
    "array['revenue'] = array['quantity'] * (array['item_price'].str.lstrip('$')).astype(float)\n",
    "array['revenue'].sum()"
   ]
  },
  {
   "cell_type": "code",
   "execution_count": 5,
   "metadata": {},
   "outputs": [
    {
     "data": {
      "text/plain": [
       "21.39423118865867"
      ]
     },
     "execution_count": 5,
     "metadata": {},
     "output_type": "execute_result"
    }
   ],
   "source": [
    "#average = 0\n",
    "#for i in range (array['order_id'].max()):\n",
    "#    temp = (array[array['order_id'] == i]['quantity'] * (array[array['order_id'] == i]['item_price'].str.lstrip('$')).astype(float)).sum()\n",
    "#    average += temp\n",
    "#average /= array['order_id'].max()\n",
    "re = array.groupby('order_id')\n",
    "s = re['revenue'].agg('sum')\n",
    "s.sum()/array['order_id'].max()"
   ]
  },
  {
   "cell_type": "code",
   "execution_count": 6,
   "metadata": {},
   "outputs": [
    {
     "data": {
      "text/plain": [
       "<Figure size 640x480 with 1 Axes>"
      ]
     },
     "metadata": {},
     "output_type": "display_data"
    }
   ],
   "source": [
    "import matplotlib.pyplot as plt\n",
    "import seaborn as sns\n",
    "import numpy as np\n",
    "#revenues.hist(bins=100)\n",
    "#plt.show()\n",
    "X = np.arange(19)+1\n",
    "Y = []\n",
    "for i in X:\n",
    "    Y.append(s[(i-1)*100:i*100].sum())\n",
    "plt.bar(X,Y,width = 0.5)\n",
    "plt.xticks(X)\n",
    "plt.xlabel(\"order 100*(x-1)+1 to 100*x\")\n",
    "plt.ylabel(\"Revenue sum\")\n",
    "plt.show()\n",
    "#s.hist(bins=10)\n",
    "#s1 = pd.Series(range(0,1835))\n",
    "#s.to_frame().join(s1,'order_id')\n",
    "#data = pd.DataFrame({'order_id':s1,'revenue': s})\n",
    "#data.hist(bins=100)\n",
    "#data"
   ]
  },
  {
   "cell_type": "code",
   "execution_count": null,
   "metadata": {},
   "outputs": [],
   "source": []
  }
 ],
 "metadata": {
  "kernelspec": {
   "display_name": "Python 3",
   "language": "python",
   "name": "python3"
  },
  "language_info": {
   "codemirror_mode": {
    "name": "ipython",
    "version": 3
   },
   "file_extension": ".py",
   "mimetype": "text/x-python",
   "name": "python",
   "nbconvert_exporter": "python",
   "pygments_lexer": "ipython3",
   "version": "3.6.6"
  }
 },
 "nbformat": 4,
 "nbformat_minor": 2
}
